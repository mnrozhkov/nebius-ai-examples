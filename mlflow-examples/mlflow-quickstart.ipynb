{
 "cells": [
  {
   "cell_type": "markdown",
   "metadata": {},
   "source": [
    "# Quickstart Guide to Using MLflow on Nebius Cloud\n",
    "\n",
    "This guide will help you set up and use MLflow on Nebius Cloud. Follow the steps below to configure your environment and run a simple MLflow experiment."
   ]
  },
  {
   "cell_type": "markdown",
   "metadata": {},
   "source": [
    "## Step 1: Set Up Environment Variables\n",
    "\n",
    "First, set up the necessary environment variables. Replace the placeholders with your actual values."
   ]
  },
  {
   "cell_type": "code",
   "execution_count": null,
   "metadata": {},
   "outputs": [],
   "source": [
    "import os\n",
    "\n",
    "%env MLFLOW_TRACKING_SERVER_CERT_PATH=/home/jovyan/ca.pem\n",
    "%env MLFLOW_TRACKING_URI=https://public-tracking.mlflow-e00e997y0znyf15mwg.backbone-e00rt16p71ew33dg9e.msp.eu-north1.nebius.cloud\n",
    "%env MLFLOW_TRACKING_USERNAME=mnrozhkov"
   ]
  },
  {
   "cell_type": "code",
   "execution_count": null,
   "metadata": {},
   "outputs": [],
   "source": [
    "%env MLFLOW_TRACKING_SERVER_CERT_PATH=/Users/mikhailrozhkov/cert/nebius-ca.pem\n",
    "%env MLFLOW_TRACKING_URI=https://public-tracking.mlflow-e00e997y0znyf15mwg.backbone-e00rt16p71ew33dg9e.msp.eu-north1.nebius.cloud\n",
    "%env MLFLOW_TRACKING_USERNAME=mnrozhkov"
   ]
  },
  {
   "cell_type": "code",
   "execution_count": null,
   "metadata": {},
   "outputs": [],
   "source": [
    "# Set OpenAI API Key to the environment variable. You can also pass the token to dspy.LM()\n",
    "import getpass\n",
    "import os\n",
    "\n",
    "os.environ[\"MLFLOW_TRACKING_PASSWORD\"] = getpass.getpass(\"Enter MLflow password:\")"
   ]
  },
  {
   "cell_type": "markdown",
   "metadata": {},
   "source": [
    "## Step 3: Write and Run Your MLflow Experiment\n",
    "\n",
    "Create a Python script with the following code to run a simple MLflow experiment:"
   ]
  },
  {
   "cell_type": "code",
   "execution_count": null,
   "metadata": {},
   "outputs": [],
   "source": [
    "import mlflow\n",
    "import numpy as np\n",
    "from sklearn.model_selection import train_test_split\n",
    "from sklearn.datasets import load_diabetes\n",
    "from sklearn.ensemble import RandomForestRegressor\n",
    "\n",
    "# Generate synthetic data\n",
    "X = np.random.rand(100, 1)\n",
    "y = 3.5 * np.random.rand(100, 1) + np.random.randn(100) * 0.5\n",
    "\n",
    "# Split the data into training and testing sets\n",
    "X_train, X_test, y_train, y_test = train_test_split(X, y, test_size=0.4)\n",
    "\n",
    "# Enable automatic logging\n",
    "mlflow.autolog()\n",
    "\n",
    "# Train a linear regression model\n",
    "model = RandomForestRegressor(n_estimators=5, max_depth=2)\n",
    "model.fit(X_train, y_train)"
   ]
  },
  {
   "cell_type": "markdown",
   "metadata": {},
   "source": [
    "## Step 5: View the Results\n",
    "\n",
    "After running the script, you can view the results in the MLflow tracking server. Make sure you have access to the Nebius Cloud MLflow tracking server to see the logged metrics, parameters, and artifacts.\n",
    "\n",
    "That's it! You have successfully set up and run an MLflow experiment on Nebius Cloud."
   ]
  },
  {
   "cell_type": "code",
   "execution_count": null,
   "metadata": {},
   "outputs": [],
   "source": []
  }
 ],
 "metadata": {
  "kernelspec": {
   "display_name": "Python [.conda-default]",
   "language": "python",
   "name": "conda-env-.conda-default-py"
  },
  "language_info": {
   "codemirror_mode": {
    "name": "ipython",
    "version": 3
   },
   "file_extension": ".py",
   "mimetype": "text/x-python",
   "name": "python",
   "nbconvert_exporter": "python",
   "pygments_lexer": "ipython3",
   "version": "3.12.9"
  }
 },
 "nbformat": 4,
 "nbformat_minor": 4
}
